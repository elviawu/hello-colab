{
  "nbformat": 4,
  "nbformat_minor": 0,
  "metadata": {
    "colab": {
      "provenance": [],
      "authorship_tag": "ABX9TyPieBHo+E0c3euvUBESQqil",
      "include_colab_link": true
    },
    "kernelspec": {
      "name": "python3",
      "display_name": "Python 3"
    },
    "language_info": {
      "name": "python"
    }
  },
  "cells": [
    {
      "cell_type": "markdown",
      "metadata": {
        "id": "view-in-github",
        "colab_type": "text"
      },
      "source": [
        "<a href=\"https://colab.research.google.com/github/elviawu/hello-colab/blob/main/Mask-data.ipynb\" target=\"_parent\"><img src=\"https://colab.research.google.com/assets/colab-badge.svg\" alt=\"Open In Colab\"/></a>"
      ]
    },
    {
      "cell_type": "code",
      "execution_count": 1,
      "metadata": {
        "colab": {
          "base_uri": "https://localhost:8080/"
        },
        "id": "qzVE9b82mI82",
        "outputId": "5b71cfad-6714-4fb9-f694-760cd766375e"
      },
      "outputs": [
        {
          "output_type": "stream",
          "name": "stderr",
          "text": [
            "IOPub data rate exceeded.\n",
            "The notebook server will temporarily stop sending output\n",
            "to the client in order to avoid crashing it.\n",
            "To change this limit, set the config variable\n",
            "`--NotebookApp.iopub_data_rate_limit`.\n",
            "\n",
            "Current values:\n",
            "NotebookApp.iopub_data_rate_limit=1000000.0 (bytes/sec)\n",
            "NotebookApp.rate_limit_window=3.0 (secs)\n",
            "\n"
          ]
        }
      ],
      "source": [
        "import requests\n",
        "import json\n",
        "\n",
        "# 利用 requests 對 API 來源發送一個請求\n",
        "url = 'https://raw.githubusercontent.com/kiang/pharmacies/master/json/points.json'\n",
        "res = requests.get(url)\n",
        "\n",
        "# 將請求回應的內容存成一個字串格式\n",
        "d = res.text\n",
        "\n",
        "# 將長得像 json 格式的字串解析成字典或列表\n",
        "data = json.loads(d)\n",
        "\n",
        "print(data)\n"
      ]
    },
    {
      "cell_type": "code",
      "source": [
        "# 填入欄位名稱\n",
        "med_count = {}\n",
        "for d in data['features']:\n",
        "    county = d['properties']['county']\n",
        "    if county == \"\":\n",
        "      county = d['properties']['address'][:3]\n",
        "    if county not in med_count:\n",
        "         med_count[county] = 1\n",
        "    else:\n",
        "      med_count[county] += 1\n",
        "\n",
        "\n",
        "print(med_count)\n",
        "# {'台北市': 123, '新北市': 456 ...}"
      ],
      "metadata": {
        "colab": {
          "base_uri": "https://localhost:8080/"
        },
        "id": "oySbYx1Bmz7-",
        "outputId": "b16e9348-e8e5-45d1-bf6f-19cfaf6477f3"
      },
      "execution_count": 7,
      "outputs": [
        {
          "output_type": "stream",
          "name": "stdout",
          "text": [
            "{'臺北市': 340, '高雄市': 424, '臺中市': 436, '臺南市': 280, '基隆市': 57, '新竹市': 39, '嘉義市': 67, '新北市': 507, '桃園市': 271, '新竹縣': 48, '宜蘭縣': 76, '苗栗縣': 57, '彰化縣': 181, '南投縣': 67, '雲林縣': 131, '嘉義縣': 84, '屏東縣': 140, '澎湖縣': 11, '花蓮縣': 47, '臺東縣': 23, '金門縣': 6, '連江縣': 1}\n"
          ]
        }
      ]
    },
    {
      "cell_type": "code",
      "source": [
        "import sqlite3\n",
        "import datetime\n",
        "import requests\n",
        "import json\n",
        "\n",
        "conn = sqlite3.connect('example.db')\n",
        "c = conn.cursor()\n",
        "\n",
        "# 新增且清空資料表\n",
        "c.execute('''CREATE TABLE IF NOT EXISTS pharmacies\n",
        "             (city text, counts text, createdAt datetime)''')\n",
        "c.execute('''DELETE FROM pharmacies''')\n",
        "conn.commit()\n",
        "\n",
        "# 新增資料\n",
        "\n",
        "url = 'https://raw.githubusercontent.com/kiang/pharmacies/master/json/points.json'\n",
        "res = requests.get(url)\n",
        "d = res.text\n",
        "data = json.loads(d)\n",
        "\n",
        "med = {}\n",
        "\n",
        "for d in data['features']:\n",
        "  city = d['properties']['county']\n",
        "  if city == \"\":\n",
        "    city = d['properties']['address'][:3]\n",
        "  if city not in med:\n",
        "    med[city] = 1\n",
        "  else:\n",
        "    med[city] += 1\n",
        "for m in med.items():\n",
        "  city = m[0]\n",
        "  counts = m[1]\n",
        "  t = datetime.datetime.now()\n",
        "  print(f\"INSERT INTO pharmacies VALUES ('{city}', {counts}, '{t}')\")\n",
        "  c.execute(f\"INSERT INTO pharmacies VALUES ('{city}', {counts}, '{t}')\")\n",
        "  conn.commit()\n",
        "\n",
        "# 查詢資料\n",
        "c.execute(\"SELECT * FROM pharmacies\")\n",
        "print(c.fetchall())\n",
        "\n",
        "conn.commit()\n",
        "conn.close()"
      ],
      "metadata": {
        "colab": {
          "base_uri": "https://localhost:8080/"
        },
        "id": "IhF3fL7AvZrD",
        "outputId": "cfeb91a6-bd7f-4352-e004-d294f35a8c64"
      },
      "execution_count": 1,
      "outputs": [
        {
          "output_type": "stream",
          "name": "stdout",
          "text": [
            "INSERT INTO pharmacies VALUES ('臺北市', 340, '2023-09-20 08:09:13.195836')\n",
            "INSERT INTO pharmacies VALUES ('高雄市', 424, '2023-09-20 08:09:13.207646')\n",
            "INSERT INTO pharmacies VALUES ('臺中市', 436, '2023-09-20 08:09:13.217997')\n",
            "INSERT INTO pharmacies VALUES ('臺南市', 280, '2023-09-20 08:09:13.228145')\n",
            "INSERT INTO pharmacies VALUES ('基隆市', 57, '2023-09-20 08:09:13.238805')\n",
            "INSERT INTO pharmacies VALUES ('新竹市', 39, '2023-09-20 08:09:13.248987')\n",
            "INSERT INTO pharmacies VALUES ('嘉義市', 67, '2023-09-20 08:09:13.259272')\n",
            "INSERT INTO pharmacies VALUES ('新北市', 507, '2023-09-20 08:09:13.269736')\n",
            "INSERT INTO pharmacies VALUES ('桃園市', 271, '2023-09-20 08:09:13.279265')\n",
            "INSERT INTO pharmacies VALUES ('新竹縣', 48, '2023-09-20 08:09:13.289580')\n",
            "INSERT INTO pharmacies VALUES ('宜蘭縣', 76, '2023-09-20 08:09:13.300400')\n",
            "INSERT INTO pharmacies VALUES ('苗栗縣', 57, '2023-09-20 08:09:13.312568')\n",
            "INSERT INTO pharmacies VALUES ('彰化縣', 181, '2023-09-20 08:09:13.323144')\n",
            "INSERT INTO pharmacies VALUES ('南投縣', 67, '2023-09-20 08:09:13.334950')\n",
            "INSERT INTO pharmacies VALUES ('雲林縣', 131, '2023-09-20 08:09:13.345047')\n",
            "INSERT INTO pharmacies VALUES ('嘉義縣', 84, '2023-09-20 08:09:13.355554')\n",
            "INSERT INTO pharmacies VALUES ('屏東縣', 140, '2023-09-20 08:09:13.367155')\n",
            "INSERT INTO pharmacies VALUES ('澎湖縣', 11, '2023-09-20 08:09:13.378470')\n",
            "INSERT INTO pharmacies VALUES ('花蓮縣', 47, '2023-09-20 08:09:13.389045')\n",
            "INSERT INTO pharmacies VALUES ('臺東縣', 23, '2023-09-20 08:09:13.407125')\n",
            "INSERT INTO pharmacies VALUES ('金門縣', 6, '2023-09-20 08:09:13.418188')\n",
            "INSERT INTO pharmacies VALUES ('連江縣', 1, '2023-09-20 08:09:13.429098')\n",
            "[('臺北市', '340', '2023-09-20 08:09:13.195836'), ('高雄市', '424', '2023-09-20 08:09:13.207646'), ('臺中市', '436', '2023-09-20 08:09:13.217997'), ('臺南市', '280', '2023-09-20 08:09:13.228145'), ('基隆市', '57', '2023-09-20 08:09:13.238805'), ('新竹市', '39', '2023-09-20 08:09:13.248987'), ('嘉義市', '67', '2023-09-20 08:09:13.259272'), ('新北市', '507', '2023-09-20 08:09:13.269736'), ('桃園市', '271', '2023-09-20 08:09:13.279265'), ('新竹縣', '48', '2023-09-20 08:09:13.289580'), ('宜蘭縣', '76', '2023-09-20 08:09:13.300400'), ('苗栗縣', '57', '2023-09-20 08:09:13.312568'), ('彰化縣', '181', '2023-09-20 08:09:13.323144'), ('南投縣', '67', '2023-09-20 08:09:13.334950'), ('雲林縣', '131', '2023-09-20 08:09:13.345047'), ('嘉義縣', '84', '2023-09-20 08:09:13.355554'), ('屏東縣', '140', '2023-09-20 08:09:13.367155'), ('澎湖縣', '11', '2023-09-20 08:09:13.378470'), ('花蓮縣', '47', '2023-09-20 08:09:13.389045'), ('臺東縣', '23', '2023-09-20 08:09:13.407125'), ('金門縣', '6', '2023-09-20 08:09:13.418188'), ('連江縣', '1', '2023-09-20 08:09:13.429098')]\n"
          ]
        }
      ]
    }
  ]
}